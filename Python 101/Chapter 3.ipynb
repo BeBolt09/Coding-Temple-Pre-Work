{
 "cells": [
  {
   "cell_type": "markdown",
   "metadata": {},
   "source": [
    "# Chapter 3 - Introducing List In Python"
   ]
  },
  {
   "cell_type": "code",
   "execution_count": 4,
   "metadata": {},
   "outputs": [
    {
     "name": "stdout",
     "output_type": "stream",
     "text": [
      "gabe\n",
      "samuel\n"
     ]
    }
   ],
   "source": [
    "student_names=['gabe','abraham','Hanah','samuel']\n",
    "print(student_names[0])\n",
    "print(student_names[-1])"
   ]
  },
  {
   "cell_type": "markdown",
   "metadata": {},
   "source": [
    "Appending Elements to the End of a List : \\\n",
    "&nbsp;&nbsp;&nbsp;&nbsp;list_name.append('str_name') \\\n",
    "Inserting Elements into a List : \\\n",
    "&nbsp;&nbsp;&nbsp;&nbsp;list.insert(index number, 'str_name') -> motorcycles.insert(0, 'ducati') "
   ]
  },
  {
   "cell_type": "markdown",
   "metadata": {},
   "source": [
    "Removing an Item Using the del Statement:  \\\n",
    "&nbsp;&nbsp;&nbsp;&nbsp;del list_name[index number] \\\n",
    "Removing an Item Using the pop() Method : \\\n",
    "&nbsp;&nbsp;&nbsp;&nbsp;list_name.pop()\\\n",
    "&nbsp;&nbsp;&nbsp;&nbsp;.pop() method writen above will delete last element of list_name "
   ]
  },
  {
   "cell_type": "code",
   "execution_count": 14,
   "metadata": {},
   "outputs": [
    {
     "name": "stdout",
     "output_type": "stream",
     "text": [
      "['Audi', 'Mercedes', 'Toyota', 'Volkswagen']\n"
     ]
    }
   ],
   "source": [
    "# Let's sort a list of cars\n",
    "cars=['Toyota','Volkswagen','Audi','Mercedes']\n",
    "cars.sort()\n",
    "print(cars)"
   ]
  },
  {
   "cell_type": "code",
   "execution_count": 15,
   "metadata": {},
   "outputs": [
    {
     "name": "stdout",
     "output_type": "stream",
     "text": [
      "['Volkswagen', 'Toyota', 'Mercedes', 'Audi']\n"
     ]
    }
   ],
   "source": [
    "# Now let's reverse the list\n",
    "cars.sort(reverse=True)\n",
    "print(cars)"
   ]
  },
  {
   "cell_type": "markdown",
   "metadata": {},
   "source": [
    "To maintain the original order of a list but present it in a sorted order, you\n",
    "can use the sorted() function. The sorted() function lets you display your list\n",
    "in a particular order but doesn’t affect the actual order of the list."
   ]
  },
  {
   "cell_type": "code",
   "execution_count": 19,
   "metadata": {},
   "outputs": [
    {
     "name": "stdout",
     "output_type": "stream",
     "text": [
      "[1, 2, 3, 4, 5, 6]\n",
      "[6, 5, 4, 3, 2, 1]\n"
     ]
    }
   ],
   "source": [
    "# How to reverse a list of numbers\n",
    "numbers=[1,2,3,4,5,6]\n",
    "print(numbers)\n",
    "numbers.reverse()\n",
    "print(numbers)"
   ]
  },
  {
   "cell_type": "code",
   "execution_count": 24,
   "metadata": {},
   "outputs": [
    {
     "name": "stdout",
     "output_type": "stream",
     "text": [
      "4\n",
      "6\n"
     ]
    }
   ],
   "source": [
    "# Finding the length of a list\n",
    "print(len(cars))\n",
    "print(len(numbers))"
   ]
  }
 ],
 "metadata": {
  "kernelspec": {
   "display_name": "base",
   "language": "python",
   "name": "python3"
  },
  "language_info": {
   "codemirror_mode": {
    "name": "ipython",
    "version": 3
   },
   "file_extension": ".py",
   "mimetype": "text/x-python",
   "name": "python",
   "nbconvert_exporter": "python",
   "pygments_lexer": "ipython3",
   "version": "3.9.12"
  }
 },
 "nbformat": 4,
 "nbformat_minor": 2
}
