{
 "cells": [
  {
   "cell_type": "markdown",
   "metadata": {},
   "source": [
    "# Chapter 5 - If Statments"
   ]
  },
  {
   "cell_type": "code",
   "execution_count": 21,
   "metadata": {},
   "outputs": [
    {
     "name": "stdout",
     "output_type": "stream",
     "text": [
      "Sebastien is in class\n",
      "Robby is not here\n"
     ]
    }
   ],
   "source": [
    "# check if sebastien is in class\n",
    "student_names=['Sebastien','Hugo','Erica','Rodri','Eden','Robb']\n",
    "for s in student_names:\n",
    "    if s=='Sebastien':\n",
    "        print('Sebastien is in class')\n",
    "\n",
    "# check if robby is in class\n",
    "for s in student_names:\n",
    "    in_class=False # Bool Value created to check for robby yes or no\n",
    "    if s=='Robby':\n",
    "        in_class=True\n",
    "if in_class==True:\n",
    "    print('Robby is here')\n",
    "else:\n",
    "    print('Robby is not here')\n",
    "        \n",
    "\n"
   ]
  },
  {
   "cell_type": "markdown",
   "metadata": {},
   "source": [
    "<h3>Checking for Inequality\n",
    "<h5>Find an Simpler way to check that robby isnt here"
   ]
  },
  {
   "cell_type": "code",
   "execution_count": 24,
   "metadata": {},
   "outputs": [],
   "source": [
    "student_names=['Sebastien','Hugo','Erica','Rodri','Eden','Robby']\n",
    "for s in student_names:\n",
    "    if s!='Robby':\n",
    "        not_here=True\n",
    "    else:\n",
    "        not_here=False\n",
    "if not_here==True:\n",
    "    print(\"Robby is not here\")\n",
    "#Actually i'm not sure if that was simpler..."
   ]
  },
  {
   "cell_type": "markdown",
   "metadata": {},
   "source": [
    "<h3>Checking Whether a Value Is Not in a List"
   ]
  },
  {
   "cell_type": "code",
   "execution_count": 26,
   "metadata": {},
   "outputs": [
    {
     "name": "stdout",
     "output_type": "stream",
     "text": [
      "marie is allowed inside\n"
     ]
    }
   ],
   "source": [
    "banned_users = ['andrew', 'carolina', 'david']\n",
    "user = 'marie'\n",
    "\n",
    "if user not in banned_users:\n",
    "    print(user+ ' is allowed inside')"
   ]
  },
  {
   "cell_type": "markdown",
   "metadata": {},
   "source": [
    "<h3> Checking for available Toppings"
   ]
  },
  {
   "cell_type": "code",
   "execution_count": 41,
   "metadata": {},
   "outputs": [
    {
     "name": "stdout",
     "output_type": "stream",
     "text": [
      "adding mushrooms to your pizza\n",
      "Sorry we do not have french fries.\n",
      "adding extra cheese to your pizza\n",
      "Making pizza with :\n",
      "['mushrooms', 'extra cheese']\n"
     ]
    }
   ],
   "source": [
    "available_toppings = ['mushrooms', 'olives', 'green peppers',\n",
    " 'pepperoni', 'pineapple', 'extra cheese']\n",
    "requested_toppings = ['mushrooms', 'french fries', 'extra cheese']\n",
    "on_pizza=[]\n",
    "\n",
    "for requested_topping in requested_toppings:\n",
    "    if requested_topping in available_toppings:\n",
    "        print('adding '+ requested_topping + ' to your pizza')\n",
    "        on_pizza.append(requested_topping)\n",
    "    elif requested_topping not in available_toppings:\n",
    "        print('Sorry we do not have '+ requested_topping + '.')\n",
    "print('Making pizza with :')\n",
    "print(on_pizza)\n",
    "\n",
    "    "
   ]
  }
 ],
 "metadata": {
  "kernelspec": {
   "display_name": "base",
   "language": "python",
   "name": "python3"
  },
  "language_info": {
   "codemirror_mode": {
    "name": "ipython",
    "version": 3
   },
   "file_extension": ".py",
   "mimetype": "text/x-python",
   "name": "python",
   "nbconvert_exporter": "python",
   "pygments_lexer": "ipython3",
   "version": "3.9.12"
  }
 },
 "nbformat": 4,
 "nbformat_minor": 2
}
