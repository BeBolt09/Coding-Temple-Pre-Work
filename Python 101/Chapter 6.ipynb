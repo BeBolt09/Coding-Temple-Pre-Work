{
 "cells": [
  {
   "cell_type": "markdown",
   "metadata": {},
   "source": [
    "# Chapter 6 - Dictionaries"
   ]
  },
  {
   "cell_type": "markdown",
   "metadata": {},
   "source": [
    "<h3>A Simple Dictionary"
   ]
  },
  {
   "cell_type": "code",
   "execution_count": 2,
   "metadata": {},
   "outputs": [
    {
     "name": "stdout",
     "output_type": "stream",
     "text": [
      "{'color': 'green', 'height_in_cm': 173}\n",
      "green\n"
     ]
    }
   ],
   "source": [
    "alien_0={'color':'green','height_in_cm':173}\n",
    "print(alien_0)\n",
    "print(alien_0['color'])"
   ]
  },
  {
   "cell_type": "markdown",
   "metadata": {},
   "source": [
    "<h3>A Dictionary is a Collection of Key Value Pair. You can access a value through it's Key. You can use any object that you can create as a value, Even another dictionary."
   ]
  },
  {
   "cell_type": "code",
   "execution_count": 7,
   "metadata": {},
   "outputs": [
    {
     "name": "stdout",
     "output_type": "stream",
     "text": [
      "{'shape': 'oval', 'length': 37, 'location_found': 'Arizona'}\n"
     ]
    }
   ],
   "source": [
    "# Starting with an Empty Dictionary\n",
    "rock_0={}\n",
    "rock_0['shape']='oval'\n",
    "rock_0['length']=37\n",
    "rock_0['location_found']='Arizona'\n",
    "\n",
    "print(rock_0)"
   ]
  },
  {
   "cell_type": "code",
   "execution_count": 9,
   "metadata": {},
   "outputs": [
    {
     "name": "stdout",
     "output_type": "stream",
     "text": [
      "The correct original location of rock_0 is New England.\n"
     ]
    }
   ],
   "source": [
    "# Modifying Values in a Dictionary\n",
    "rock_0['location_found']='New England'\n",
    "print('The correct original location of rock_0 is ' + rock_0['location_found'] + '.')"
   ]
  },
  {
   "cell_type": "code",
   "execution_count": 11,
   "metadata": {},
   "outputs": [
    {
     "name": "stdout",
     "output_type": "stream",
     "text": [
      "Sebastien's favorite team is Man city\n"
     ]
    }
   ],
   "source": [
    "#Make a dictionary for people's favorite teams\n",
    "favorite_teams={\n",
    "    'sebastien':'Man city',\n",
    "    'bailey':'Real Madrid',\n",
    "    'Hugo':'Barcelona',\n",
    "    'Robby':'Inter Miami'\n",
    "}\n",
    "\n",
    "print(\"Sebastien's favorite team is \"+favorite_teams['sebastien'])"
   ]
  },
  {
   "cell_type": "markdown",
   "metadata": {},
   "source": [
    "<h3>Looping Through a Dictionary"
   ]
  },
  {
   "cell_type": "code",
   "execution_count": 13,
   "metadata": {},
   "outputs": [
    {
     "name": "stdout",
     "output_type": "stream",
     "text": [
      "{'sebastien': 'Man city', 'bailey': 'Real Madrid', 'Hugo': 'Barcelona', 'Robby': 'Inter Miami'}\n",
      "\n",
      "Key : sebastien\n",
      "Value: Man city\n",
      "\n",
      "Key : bailey\n",
      "Value: Real Madrid\n",
      "\n",
      "Key : Hugo\n",
      "Value: Barcelona\n",
      "\n",
      "Key : Robby\n",
      "Value: Inter Miami\n"
     ]
    }
   ],
   "source": [
    "# Let's use favorite_teams as our dictionary\n",
    "print(favorite_teams)\n",
    "for key,value in favorite_teams.items():\n",
    "    print(\"\\nKey : \"+key)\n",
    "    print(\"Value: \"+value)\n"
   ]
  },
  {
   "cell_type": "markdown",
   "metadata": {},
   "source": [
    "<h3>Nesting A list of Dictionaries"
   ]
  },
  {
   "cell_type": "code",
   "execution_count": 16,
   "metadata": {},
   "outputs": [
    {
     "name": "stdout",
     "output_type": "stream",
     "text": [
      "{'color': 'green', 'height_in_cm': 173}\n",
      "{'color': 'blue', 'height_in_cm': 95}\n",
      "{'color': 'purple', 'height_in_cm': 302}\n"
     ]
    }
   ],
   "source": [
    "# list of aliens have multiple properties\n",
    "alien_0={'color':'green','height_in_cm':173}\n",
    "alien_1={'color':'blue','height_in_cm':95}\n",
    "alien_2={'color':'purple','height_in_cm':302}\n",
    "\n",
    "aliens=[alien_0,alien_1,alien_2]\n",
    "\n",
    "for alien in aliens:\n",
    "    print(alien)\n"
   ]
  },
  {
   "cell_type": "code",
   "execution_count": 21,
   "metadata": {},
   "outputs": [
    {
     "name": "stdout",
     "output_type": "stream",
     "text": [
      "{'height': 190, 'will power': 'strong', 'ambitions': 'great'}\n",
      "{'height': 190, 'will power': 'strong', 'ambitions': 'great'}\n",
      "{'height': 190, 'will power': 'strong', 'ambitions': 'great'}\n",
      "{'height': 190, 'will power': 'strong', 'ambitions': 'great'}\n",
      "{'height': 190, 'will power': 'strong', 'ambitions': 'great'}\n",
      "Total number of heroes created : 30\n"
     ]
    }
   ],
   "source": [
    "# Let's Make a fleet of 30 Heroes inside a list\n",
    "heroes=[]\n",
    "\n",
    "for hero_num in range(30):\n",
    "    new_hero={'height':190,'will power':'strong','ambitions':'great'}\n",
    "    heroes.append(new_hero)\n",
    "for hero in heroes[:5]:\n",
    "    print(hero)\n",
    "\n",
    "print('Total number of heroes created : '+ str(len(heroes)))\n"
   ]
  },
  {
   "cell_type": "markdown",
   "metadata": {},
   "source": [
    "<h3>Looping Through All Values in a Dictionary"
   ]
  },
  {
   "cell_type": "code",
   "execution_count": 26,
   "metadata": {},
   "outputs": [
    {
     "name": "stdout",
     "output_type": "stream",
     "text": [
      "The following languages have been mentioned: \n",
      "C\n",
      "Python\n",
      "Python\n",
      "Ruby\n"
     ]
    }
   ],
   "source": [
    "favorite_languages = {\n",
    " 'jen': 'python',\n",
    " 'sarah': 'c',\n",
    " 'edward': 'ruby',\n",
    " 'phil': 'python',\n",
    " }\n",
    "\n",
    "print('The following languages have been mentioned: ')\n",
    "for value in sorted(favorite_languages.values()):\n",
    "    print(value.title())"
   ]
  },
  {
   "cell_type": "code",
   "execution_count": 27,
   "metadata": {},
   "outputs": [
    {
     "name": "stdout",
     "output_type": "stream",
     "text": [
      "The following languages have been mentioned: \n",
      "ruby\n",
      "python\n",
      "c\n"
     ]
    }
   ],
   "source": [
    "# Notice how since python was mentioned by two people, it appears twice.\n",
    "# Let's fix that.\n",
    "\n",
    "print('The following languages have been mentioned: ')\n",
    "for language in set(favorite_languages.values()):\n",
    "    print(language)"
   ]
  },
  {
   "cell_type": "markdown",
   "metadata": {},
   "source": [
    "<h3>A List in a Dictionary\n",
    "<h5>an Example of how this would be usefull"
   ]
  },
  {
   "cell_type": "code",
   "execution_count": 33,
   "metadata": {},
   "outputs": [
    {
     "name": "stdout",
     "output_type": "stream",
     "text": [
      "You ordered a thick-crust pizza with :\n",
      "\t -pepperoni\n",
      "\t -cheese\n",
      "\t -mushrooms\n",
      "\t -bell peper\n"
     ]
    }
   ],
   "source": [
    "# Create a pizza dictionary \n",
    "pizza={\n",
    "    'crust':'thick',\n",
    "    'toppings':['pepperoni','cheese','mushrooms','bell peper'],\n",
    "}\n",
    "\n",
    "print(\"You ordered a \" + pizza['crust'] + \"-crust pizza with :\")\n",
    "for topping in pizza['toppings']:\n",
    "    print('\\t -'+ topping)"
   ]
  },
  {
   "cell_type": "markdown",
   "metadata": {},
   "source": [
    "<h3>A Dictionary in a Dictionary"
   ]
  },
  {
   "cell_type": "code",
   "execution_count": 38,
   "metadata": {},
   "outputs": [],
   "source": [
    "users = {\n",
    " 'aeinstein': {\n",
    " 'first': 'albert',\n",
    " 'last': 'einstein',\n",
    " 'location': 'princeton',\n",
    " },\n",
    " 'mcurie': {\n",
    " 'first': 'marie',\n",
    " 'last': 'curie',\n",
    " 'location': 'paris',\n",
    " },\n",
    "}"
   ]
  },
  {
   "cell_type": "code",
   "execution_count": 40,
   "metadata": {},
   "outputs": [
    {
     "name": "stdout",
     "output_type": "stream",
     "text": [
      "\taeinstein\n",
      "\tFull name: Albert Einstein\n",
      "\tLocation: Princeton\n",
      "\tmcurie\n",
      "\tFull name: Marie Curie\n",
      "\tLocation: Paris\n"
     ]
    }
   ],
   "source": [
    "for username, user_info in users.items():\n",
    "    print(\"\\t\"+ username)\n",
    "    full_name= user_info['first']+' '+user_info['last']\n",
    "    location = user_info['location']\n",
    "\n",
    "    print(\"\\tFull name: \" + full_name.title())\n",
    "    print(\"\\tLocation: \" + location.title())"
   ]
  }
 ],
 "metadata": {
  "kernelspec": {
   "display_name": "base",
   "language": "python",
   "name": "python3"
  },
  "language_info": {
   "codemirror_mode": {
    "name": "ipython",
    "version": 3
   },
   "file_extension": ".py",
   "mimetype": "text/x-python",
   "name": "python",
   "nbconvert_exporter": "python",
   "pygments_lexer": "ipython3",
   "version": "3.9.12"
  }
 },
 "nbformat": 4,
 "nbformat_minor": 2
}
