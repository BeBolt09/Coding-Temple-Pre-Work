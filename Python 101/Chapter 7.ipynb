{
 "cells": [
  {
   "cell_type": "markdown",
   "metadata": {},
   "source": [
    "# Chapter 7 - User Input and While Loops !\n",
    "<h3>In this chapter I'll learn how to prompt user for an input, use it as a variable or data. I'll also learn how to keep a program running as long as user want it to. We could do this with a for loop but this will make the code simpler and easier to read/understand."
   ]
  },
  {
   "cell_type": "markdown",
   "metadata": {},
   "source": [
    "<h3>How the input() Function Works"
   ]
  },
  {
   "cell_type": "code",
   "execution_count": 6,
   "metadata": {},
   "outputs": [
    {
     "name": "stdout",
     "output_type": "stream",
     "text": [
      "That means you are 20\n"
     ]
    }
   ],
   "source": [
    "#ask user for an input\n",
    "dob=input('Enter your year of birth')\n",
    "print('That means you are '+ str(2023-int(dob)))\n"
   ]
  },
  {
   "cell_type": "markdown",
   "metadata": {},
   "source": [
    "<h3>Even or Odd program"
   ]
  },
  {
   "cell_type": "code",
   "execution_count": 9,
   "metadata": {},
   "outputs": [
    {
     "name": "stdout",
     "output_type": "stream",
     "text": [
      "number you entered is even\n"
     ]
    }
   ],
   "source": [
    "# First ask the user of an input\n",
    "num=int(input(\"Enter a number and I'll tell you if it's even or odd\"))\n",
    "if num%2==1:\n",
    "    print('number you entered is odd')\n",
    "elif num%2==0:\n",
    "    print('number you entered is even')"
   ]
  },
  {
   "cell_type": "markdown",
   "metadata": {},
   "source": [
    "<h3>Introducing while Loops"
   ]
  },
  {
   "cell_type": "code",
   "execution_count": 12,
   "metadata": {},
   "outputs": [
    {
     "name": "stdout",
     "output_type": "stream",
     "text": [
      "1\n",
      "2\n",
      "3\n",
      "4\n",
      "5\n"
     ]
    }
   ],
   "source": [
    "current_number = 1\n",
    "while current_number <= 5:\n",
    " print(current_number)\n",
    " current_number += 1"
   ]
  },
  {
   "cell_type": "code",
   "execution_count": 13,
   "metadata": {},
   "outputs": [
    {
     "name": "stdout",
     "output_type": "stream",
     "text": [
      "hey\n",
      "hey\n",
      "ehy\n",
      "quit\n"
     ]
    }
   ],
   "source": [
    "prompt='Tell me somtething or say quit to quit the program'\n",
    "message= \"\"\n",
    "\n",
    "while message!='quit':\n",
    "    message=input(prompt)\n",
    "    print(message)"
   ]
  },
  {
   "cell_type": "markdown",
   "metadata": {},
   "source": [
    "<h3>Let's write a program that moves unverified users to the confirmed user list"
   ]
  },
  {
   "cell_type": "code",
   "execution_count": 15,
   "metadata": {},
   "outputs": [
    {
     "name": "stdout",
     "output_type": "stream",
     "text": [
      "Verrifying User: vinny\n",
      "Verrifying User: robert\n",
      "Verrifying User: alice\n",
      "['vinny', 'robert', 'alice']\n"
     ]
    }
   ],
   "source": [
    "unverified_users=['alice','robert','vinny']\n",
    "confirmed_users=[]\n",
    "\n",
    "#we can use a while loop to see if users are still in the list\n",
    "while unverified_users:\n",
    "    current_user=unverified_users.pop()\n",
    "    \n",
    "    print('Verrifying User: '+ current_user)\n",
    "    confirmed_users.append(current_user)\n",
    "\n",
    "print(confirmed_users)"
   ]
  },
  {
   "cell_type": "markdown",
   "metadata": {},
   "source": [
    "<h3>Removing All Instances of Specific Values from a List"
   ]
  },
  {
   "cell_type": "code",
   "execution_count": 16,
   "metadata": {},
   "outputs": [
    {
     "name": "stdout",
     "output_type": "stream",
     "text": [
      "['dog', 'cat', 'dog', 'goldfish', 'cat', 'rabbit', 'cat']\n",
      "['dog', 'dog', 'goldfish', 'rabbit']\n"
     ]
    }
   ],
   "source": [
    "pets = ['dog', 'cat', 'dog', 'goldfish', 'cat', 'rabbit', 'cat']\n",
    "print(pets)\n",
    "while 'cat' in pets:\n",
    " pets.remove('cat')\n",
    "\n",
    "print(pets)"
   ]
  },
  {
   "cell_type": "markdown",
   "metadata": {},
   "source": [
    "<h3>Filling a Dictionary with User Input\n",
    "<h5>You can prompt for as much input as you need in each pass through a while\n",
    "loop. Let’s make a polling program in which each pass through the loop\n",
    "prompts for the participant’s name and response. We’ll store the data we\n",
    "gather in a dictionary, because we want to connect each response with a\n",
    "particular user:"
   ]
  },
  {
   "cell_type": "code",
   "execution_count": 4,
   "metadata": {},
   "outputs": [
    {
     "name": "stdout",
     "output_type": "stream",
     "text": [
      "{'seba': 'vw', 'erica': 'honda'}\n"
     ]
    }
   ],
   "source": [
    "responses={}\n",
    "\n",
    "#create a flag to turn off poll\n",
    "flag_active=True\n",
    "\n",
    "# Create the while loop\n",
    "while flag_active:\n",
    "    #Ask user for name and response\n",
    "    name=input('\\tWhat is your name ?')\n",
    "    response=input('\\tWhat car do you drive ?')\n",
    "\n",
    "    #fill the responses dictionary with the answers\n",
    "    responses[name]=response\n",
    "    #ask user if he wants to keep going or quit\n",
    "    ongoing=input('Do you want to submit another response ? [yes] or [no]')\n",
    "    if ongoing=='no':\n",
    "        flag_active=False\n",
    "\n",
    "print(responses)\n",
    "    "
   ]
  }
 ],
 "metadata": {
  "kernelspec": {
   "display_name": "base",
   "language": "python",
   "name": "python3"
  },
  "language_info": {
   "codemirror_mode": {
    "name": "ipython",
    "version": 3
   },
   "file_extension": ".py",
   "mimetype": "text/x-python",
   "name": "python",
   "nbconvert_exporter": "python",
   "pygments_lexer": "ipython3",
   "version": "3.9.12"
  }
 },
 "nbformat": 4,
 "nbformat_minor": 2
}
