{
 "cells": [
  {
   "cell_type": "markdown",
   "metadata": {},
   "source": [
    "# Chapter 8 - Functions"
   ]
  },
  {
   "cell_type": "code",
   "execution_count": 1,
   "metadata": {},
   "outputs": [
    {
     "name": "stdout",
     "output_type": "stream",
     "text": [
      "Hello!\n"
     ]
    }
   ],
   "source": [
    "#Defining a Function\n",
    "def greet_user():\n",
    "    print(\"Hello!\")\n",
    "\n",
    "greet_user()"
   ]
  },
  {
   "cell_type": "code",
   "execution_count": 3,
   "metadata": {},
   "outputs": [
    {
     "name": "stdout",
     "output_type": "stream",
     "text": [
      "Jimmy Kimmels\n"
     ]
    }
   ],
   "source": [
    "#make a function that take F name and L name and gives us fuill name\n",
    "def get_formatted_name(first_name,last_name):\n",
    "    #return a full name, neatly formatted\n",
    "    full_name=first_name+' '+last_name\n",
    "    return full_name.title()\n",
    "\n",
    "print(get_formatted_name('Jimmy','Kimmels'))\n"
   ]
  },
  {
   "cell_type": "code",
   "execution_count": 5,
   "metadata": {},
   "outputs": [
    {
     "name": "stdout",
     "output_type": "stream",
     "text": [
      "Jimmy Rodri Kimmels\n"
     ]
    }
   ],
   "source": [
    "#making an argument optional\n",
    "def get_formatted_name(first_name,last_name,midle_name=''):\n",
    "    #return a full name, neatly formatted\n",
    "    if midle_name:\n",
    "        return (first_name+' '+ midle_name +' '+last_name).title()\n",
    "    else:\n",
    "        return (first_name+' '+last_name).title()\n",
    "\n",
    "\n",
    "print(get_formatted_name('Jimmy','Kimmels','rodri'))"
   ]
  },
  {
   "cell_type": "code",
   "execution_count": 8,
   "metadata": {},
   "outputs": [
    {
     "name": "stdout",
     "output_type": "stream",
     "text": [
      "Making a Pizza with :\n",
      "\t-peperoni\n",
      "Making a Pizza with :\n",
      "\t-peperoni\n",
      "\t-ham\n",
      "\t-bacon\n",
      "\t-sausage\n",
      "\t-steak\n",
      "\t-chicken\n"
     ]
    }
   ],
   "source": [
    "#Define a function for pizza toppings\n",
    "def make_pizza(*toppings):\n",
    "    print('Making a Pizza with :')\n",
    "    for t in toppings:\n",
    "        print('\\t-'+t)\n",
    "\n",
    "make_pizza('peperoni')\n",
    "make_pizza('peperoni','ham','bacon','sausage','steak','chicken')"
   ]
  },
  {
   "cell_type": "markdown",
   "metadata": {},
   "source": [
    "<h5>If you want to make a function with different arg types and have a *arg, I need to put the *arg at the end.\n",
    "<h6>Write a function that stores information about a car in a dictionary. The function should always receive a manufacturer and a model name. It\n",
    "should then accept an arbitrary number of keyword arguments. Call the function with the required information and two other name-value pairs, such as a\n",
    "color or an optional feature. Your function should work for a call like this one:\n",
    "car = make_car('subaru', 'outback', color='blue', tow_package=True)"
   ]
  },
  {
   "cell_type": "code",
   "execution_count": 9,
   "metadata": {},
   "outputs": [
    {
     "name": "stdout",
     "output_type": "stream",
     "text": [
      "{'Brand': 'subaru', 'Model': 'outback', 'color': 'blue', 'tow_package': True}\n"
     ]
    }
   ],
   "source": [
    "def make_car(manufacter,make,**user_info):\n",
    "    car={}\n",
    "    car['Brand']=manufacter\n",
    "    car['Model']=make\n",
    "    for key,value in user_info.items():\n",
    "        car[key]=value\n",
    "    return car\n",
    "\n",
    "car_1 = make_car('subaru', 'outback', color='blue', tow_package=True)\n",
    "print(car_1)"
   ]
  }
 ],
 "metadata": {
  "kernelspec": {
   "display_name": "base",
   "language": "python",
   "name": "python3"
  },
  "language_info": {
   "codemirror_mode": {
    "name": "ipython",
    "version": 3
   },
   "file_extension": ".py",
   "mimetype": "text/x-python",
   "name": "python",
   "nbconvert_exporter": "python",
   "pygments_lexer": "ipython3",
   "version": "3.9.12"
  }
 },
 "nbformat": 4,
 "nbformat_minor": 2
}
