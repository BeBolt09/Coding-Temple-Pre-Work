{
 "cells": [
  {
   "cell_type": "markdown",
   "metadata": {},
   "source": [
    "Please write a Python function, max_num_in_list to return the max number of a given list. The first line of the code has been defined as below.\n",
    "\n",
    "\n",
    "    def max_num_in_list(a_list):\n",
    "        .....\n"
   ]
  },
  {
   "cell_type": "code",
   "execution_count": 1,
   "metadata": {},
   "outputs": [
    {
     "data": {
      "text/plain": [
       "900"
      ]
     },
     "execution_count": 1,
     "metadata": {},
     "output_type": "execute_result"
    }
   ],
   "source": [
    "def max_num_in_list(a_list):\n",
    "    max_num=0\n",
    "    for num in a_list:\n",
    "        if num>max_num:\n",
    "            max_num=num\n",
    "    return max_num\n",
    "\n",
    "list_of_nums=[0,5,17,23,6,1,35,900]\n",
    "max_num_in_list(list_of_nums)"
   ]
  },
  {
   "cell_type": "markdown",
   "metadata": {},
   "source": [
    "Write a python function, first_odds that prints the odd numbers from 1-100 and returns nothing\n",
    "\n",
    "\n",
    "    def first_odds():"
   ]
  },
  {
   "cell_type": "code",
   "execution_count": 3,
   "metadata": {},
   "outputs": [
    {
     "name": "stdout",
     "output_type": "stream",
     "text": [
      "1\n",
      "3\n",
      "5\n",
      "7\n",
      "9\n",
      "11\n",
      "13\n",
      "15\n",
      "17\n",
      "19\n",
      "21\n",
      "23\n",
      "25\n",
      "27\n",
      "29\n",
      "31\n",
      "33\n",
      "35\n",
      "37\n",
      "39\n",
      "41\n",
      "43\n",
      "45\n",
      "47\n",
      "49\n",
      "51\n",
      "53\n",
      "55\n",
      "57\n",
      "59\n",
      "61\n",
      "63\n",
      "65\n",
      "67\n",
      "69\n",
      "71\n",
      "73\n",
      "75\n",
      "77\n",
      "79\n",
      "81\n",
      "83\n",
      "85\n",
      "87\n",
      "89\n",
      "91\n",
      "93\n",
      "95\n",
      "97\n",
      "99\n"
     ]
    }
   ],
   "source": [
    "def first_odds():\n",
    "    for i in range(0,100):\n",
    "        if i%2==1:\n",
    "            print(i)\n",
    "first_odds()"
   ]
  },
  {
   "cell_type": "markdown",
   "metadata": {},
   "source": [
    "Write a function to return if the given year is a leap year. A leap year is divisible by 4, but not divisible by 100, unless it is also divisible by 400. The return should be boolean Type (true/false).\n",
    "\n",
    "\n",
    "    def is_leap_year(a_year):"
   ]
  },
  {
   "cell_type": "code",
   "execution_count": 13,
   "metadata": {},
   "outputs": [
    {
     "data": {
      "text/plain": [
       "True"
      ]
     },
     "execution_count": 13,
     "metadata": {},
     "output_type": "execute_result"
    }
   ],
   "source": [
    "def is_leap_year(a_year):\n",
    "    leap_or_not=False\n",
    "    if a_year%100==0:\n",
    "        if a_year%400==0:\n",
    "            leap_or_not=True\n",
    "    if a_year%4==0:\n",
    "        leap_or_not=True\n",
    "    return leap_or_not\n",
    "\n",
    "is_leap_year(2008)"
   ]
  },
  {
   "cell_type": "markdown",
   "metadata": {},
   "source": [
    "Write a function to check to see if all numbers in list are consecutive numbers. For example, [2,3,4,5,6,7] are consecutive numbers, but [1,2,4,5] are not consecutive numbers. The return should be boolean Type.\n",
    "\n",
    "\n",
    "    def is_consecutive(a_list):"
   ]
  },
  {
   "cell_type": "code",
   "execution_count": 32,
   "metadata": {},
   "outputs": [
    {
     "data": {
      "text/plain": [
       "True"
      ]
     },
     "execution_count": 32,
     "metadata": {},
     "output_type": "execute_result"
    }
   ],
   "source": [
    "def is_consecutive(a_list):\n",
    "    consecutive=False\n",
    "    for n in a_list:\n",
    "        if n==a_list[-2]:\n",
    "            break\n",
    "        if a_list[n]+1==a_list[n+1]:\n",
    "            consecutive=True\n",
    "        else:\n",
    "            consecutive=False\n",
    "            break\n",
    "    return consecutive\n",
    "\n",
    "\n",
    "is_consecutive([1,2,3,4,5,6,7,8])\n",
    "\n"
   ]
  },
  {
   "cell_type": "code",
   "execution_count": 13,
   "metadata": {},
   "outputs": [
    {
     "name": "stdout",
     "output_type": "stream",
     "text": [
      "********d2eA\n",
      "123\n"
     ]
    }
   ],
   "source": [
    "def maskify(cc):\n",
    "    beginning=cc[:-4]\n",
    "    lastFour=cc[-4:]\n",
    "    newBeginning=''\n",
    "    for ch in beginning:\n",
    "        newBeginning+='*'\n",
    "    masked=newBeginning+lastFour\n",
    "    return masked\n",
    "    pass\n",
    "\n",
    "print(maskify('SF$SDfgsd2eA'))\n",
    "print(maskify('123'))"
   ]
  },
  {
   "cell_type": "markdown",
   "metadata": {},
   "source": [
    "Return the number (count) of vowels in the given string.\n",
    "We will consider a, e, i, o, u as vowels for this Kata (but not y).\n",
    "The input string will only consist of lower case letters and/or spaces."
   ]
  },
  {
   "cell_type": "code",
   "execution_count": 30,
   "metadata": {},
   "outputs": [
    {
     "data": {
      "text/plain": [
       "5"
      ]
     },
     "execution_count": 30,
     "metadata": {},
     "output_type": "execute_result"
    }
   ],
   "source": [
    "def get_count(sentence):\n",
    "    vowels=\"aeiou\"\n",
    "    count=0\n",
    "    for ch in vowels:\n",
    "        for x in sentence:\n",
    "            if(ch==x):\n",
    "                count+=1\n",
    "\n",
    "    return count\n",
    "\n",
    "get_count('awodihawod')"
   ]
  },
  {
   "cell_type": "markdown",
   "metadata": {},
   "source": [
    "In this little assignment you are given a string of space separated numbers, and have to return the highest and lowest number.\n",
    "high_and_low(\"1 2 3 4 5\")  # return \"5 1\"\n",
    "high_and_low(\"1 2 -3 4 5\") # return \"5 -3\"\n",
    "high_and_low(\"1 9 3 4 -5\") # return \"9 -5\"\n",
    "\n",
    "Notes\n",
    "All numbers are valid Int32, no need to validate them.\n",
    "There will always be at least one number in the input string.\n",
    "Output string must be two numbers separated by a single space, and highest number is first."
   ]
  },
  {
   "cell_type": "code",
   "execution_count": 3,
   "metadata": {},
   "outputs": [
    {
     "data": {
      "text/plain": [
       "'5 1'"
      ]
     },
     "execution_count": 3,
     "metadata": {},
     "output_type": "execute_result"
    }
   ],
   "source": [
    "def high_and_low(numbers):\n",
    "     # Split the string into a list of integers\n",
    "     integers = [int(x) for x in numbers.split()]\n",
    "     # Initialize the largest integer as the first integer\n",
    "     largest_int = integers[0]\n",
    "     small_int=integers[0]\n",
    "     # Iterate through the list of integers and update the largest integer if necessary\n",
    "     for integer in integers:\n",
    "         if integer > largest_int:\n",
    "             largest_int = integer\n",
    "         elif integer<small_int:\n",
    "             small_int=integer\n",
    "     end=str(largest_int)+' '+str(small_int)\n",
    "     return(end)\n",
    "\n",
    "\n",
    "high_and_low(\"1 2 3 4 5\")"
   ]
  },
  {
   "cell_type": "markdown",
   "metadata": {},
   "source": [
    "Create a function that returns the sum of the two lowest positive numbers given an array of minimum 4 positive integers. No floats or non-positive integers will be passed.\n",
    "\n",
    "For example, when an array is passed like [19, 5, 42, 2, 77], the output should be 7.\n",
    "\n",
    "[10, 343445353, 3453445, 3453545353453] should return 3453455."
   ]
  },
  {
   "cell_type": "code",
   "execution_count": 9,
   "metadata": {},
   "outputs": [
    {
     "data": {
      "text/plain": [
       "7"
      ]
     },
     "execution_count": 9,
     "metadata": {},
     "output_type": "execute_result"
    }
   ],
   "source": [
    "def sum_two_smallest_numbers(numbers):\n",
    "    smallestNum=numbers[0]\n",
    "    for n in numbers:\n",
    "        if(n<smallestNum):\n",
    "            smallestNum=n\n",
    "    secondSmallest=numbers[-1]\n",
    "    for n in numbers:\n",
    "        if(n<secondSmallest and n!=smallestNum):\n",
    "            secondSmallest=n\n",
    "    total=smallestNum+secondSmallest\n",
    "\n",
    "\n",
    "    return total\n",
    "\n",
    "sum_two_smallest_numbers([19, 5, 42, 2, 77])"
   ]
  },
  {
   "cell_type": "markdown",
   "metadata": {},
   "source": [
    "Complete the solution so that it splits the string into pairs of two characters. If the string contains an odd number of characters then it should replace the missing second character of the final pair with an underscore ('_').\n",
    "\n",
    "Examples:\n",
    "\n",
    "* 'abc' =>  ['ab', 'c_']\n",
    "* 'abcdef' => ['ab', 'cd', 'ef']"
   ]
  },
  {
   "cell_type": "code",
   "execution_count": 43,
   "metadata": {},
   "outputs": [
    {
     "data": {
      "text/plain": [
       "['ab', 'cd', 'e_']"
      ]
     },
     "execution_count": 43,
     "metadata": {},
     "output_type": "execute_result"
    }
   ],
   "source": [
    "def solution(s):\n",
    "    if(len(s)%2==1):\n",
    "        s=s+'_'\n",
    "\n",
    "    listOfPairs=[]\n",
    "    x=len(s)//2\n",
    "    for ch in range(x):\n",
    "        firstTwo=s[:2]\n",
    "        s=s[2:]\n",
    "        listOfPairs.append(firstTwo)\n",
    "\n",
    "    return listOfPairs\n",
    "\n",
    "\n",
    "solution('abcde')"
   ]
  },
  {
   "cell_type": "markdown",
   "metadata": {},
   "source": [
    "Write a function that takes an integer as input, and returns the number of bits that are equal to one in the binary representation of that number. You can guarantee that input is non-negative.\n",
    "\n",
    "Example: The binary representation of 1234 is 10011010010, so the function should return 5 in this case"
   ]
  },
  {
   "cell_type": "code",
   "execution_count": 57,
   "metadata": {},
   "outputs": [
    {
     "data": {
      "text/plain": [
       "8"
      ]
     },
     "execution_count": 57,
     "metadata": {},
     "output_type": "execute_result"
    }
   ],
   "source": [
    "def count_bits(n):\n",
    "    binary_representation = bin(n)\n",
    "    count=0\n",
    "    for ch in binary_representation:\n",
    "        if(ch=='1'):\n",
    "            count+=1    \n",
    "    return count\n",
    "\n",
    "count_bits(19283)"
   ]
  },
  {
   "cell_type": "markdown",
   "metadata": {},
   "source": [
    "In this kata you have to write a simple Morse code decoder. While the Morse code is now mostly superseded by voice and digital data communication channels, it still has its use in some applications around the world.\n",
    "The Morse code encodes every character as a sequence of \"dots\" and \"dashes\". For example, the letter A is coded as ·−, letter Q is coded as −−·−, and digit 1 is coded as ·−−−−. The Morse code is case-insensitive, traditionally capital letters are used. When the message is written in Morse code, a single space is used to separate the character codes and 3 spaces are used to separate words. For example, the message HEY JUDE in Morse code is ···· · −·−−   ·−−− ··− −·· ·.\n",
    "\n",
    "NOTE: Extra spaces before or after the code have no meaning and should be ignored.\n",
    "\n",
    "In addition to letters, digits and some punctuation, there are some special service codes, the most notorious of those is the international distress signal SOS (that was first issued by Titanic), that is coded as ···−−−···. These special codes are treated as single special characters, and usually are transmitted as separate words.\n",
    "\n",
    "Your task is to implement a function that would take the morse code as input and return a decoded human-readable string.\n",
    "\n",
    "For example:\n",
    "\n",
    "decode_morse('.... . -.--   .--- ..- -.. .')\n",
    "#should return \"HEY JUDE\"\n",
    "NOTE: For coding purposes you have to use ASCII characters . and -, not Unicode characters.\n",
    "\n",
    "The Morse code table is preloaded for you as a dictionary, feel free to use it:\n",
    "\n",
    "Coffeescript/C++/Go/JavaScript/Julia/PHP/Python/Ruby/TypeScript: \n",
    "MORSE_CODE['.--']"
   ]
  },
  {
   "cell_type": "code",
   "execution_count": 22,
   "metadata": {},
   "outputs": [
    {
     "name": "stdout",
     "output_type": "stream",
     "text": [
      "This Message Has four \n"
     ]
    }
   ],
   "source": [
    "morse_code = 'This   Message   Has   four'\n",
    "\n",
    "# Split the string if three consecutive white spaces are found\n",
    "split_strings = morse_code.split('   ')\n",
    "morses_list = []\n",
    "\n",
    "for item in split_strings:\n",
    "    morses_list.append(item)\n",
    "\n",
    "\n",
    "finalMessage=''\n",
    "i=0\n",
    "for items in morses_list:\n",
    "    finalMessage+=morses_list[i]+' '\n",
    "    i+=1\n",
    "\n",
    "print(finalMessage)\n",
    "\n"
   ]
  },
  {
   "cell_type": "code",
   "execution_count": 17,
   "metadata": {},
   "outputs": [
    {
     "data": {
      "text/plain": [
       "49.0"
      ]
     },
     "execution_count": 17,
     "metadata": {},
     "output_type": "execute_result"
    }
   ],
   "source": [
    "import math\n",
    "\n",
    "def find_next_square(sq):\n",
    "    # Return the next square if sq is a square, -1 otherwise\n",
    "    root = math.sqrt(sq)\n",
    "    if (math.sqrt(sq).is_integer()):\n",
    "        nextSquare=(math.sqrt(sq)+1)*(math.sqrt(sq)+1)\n",
    "    else:\n",
    "        nextSquare=-1\n",
    "    return nextSquare\n",
    "\n",
    "find_next_square(36)"
   ]
  }
 ],
 "metadata": {
  "kernelspec": {
   "display_name": "base",
   "language": "python",
   "name": "python3"
  },
  "language_info": {
   "codemirror_mode": {
    "name": "ipython",
    "version": 3
   },
   "file_extension": ".py",
   "mimetype": "text/x-python",
   "name": "python",
   "nbconvert_exporter": "python",
   "pygments_lexer": "ipython3",
   "version": "3.9.12"
  }
 },
 "nbformat": 4,
 "nbformat_minor": 2
}
